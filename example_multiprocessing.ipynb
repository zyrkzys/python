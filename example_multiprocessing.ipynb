{
 "cells": [
  {
   "cell_type": "markdown",
   "metadata": {},
   "source": [
    "# Basic ```multiprocessing```"
   ]
  },
  {
   "cell_type": "markdown",
   "metadata": {},
   "source": [
    "First, an introduction: ```multiprocessing``` offers a range of resources to get around the pesky Global Interpreter Lock (GIL) that ensures each thread holds a lock unto itself. ```multiprocessing``` simply adds more processes instead of threads, and adds nifty management tools for creating and employing a pool of ```Process``` workers."
   ]
  },
  {
   "cell_type": "code",
   "execution_count": 26,
   "metadata": {
    "scrolled": true
   },
   "outputs": [
    {
     "name": "stdout",
     "output_type": "stream",
     "text": [
      "11008: 1673734644: Worker\n",
      "11010: 1673734644: Worker\n",
      "11015: 1673734644: Worker\n",
      "11022: 1673734644: Worker\n",
      "11007: 1673734644: Worker\n"
     ]
    }
   ],
   "source": [
    "import multiprocessing\n",
    "import time\n",
    "import os\n",
    "\n",
    "def worker():\n",
    "    \"\"\"worker function\"\"\"\n",
    "    print(\"{0}: {1}: Worker\".format(os.getpid(),int(time.time())))\n",
    "\n",
    "if __name__ == \"__main__\":\n",
    "    jobs = []\n",
    "    for i in range(5):\n",
    "        p = multiprocessing.Process(target=worker)\n",
    "        jobs.append(p)\n",
    "        p.start()\n"
   ]
  },
  {
   "cell_type": "markdown",
   "metadata": {},
   "source": [
    "From the output above, we can see that each ```Process``` executes independently, and naturally have their own PIDs distinct from the parent process. The execution is parallel, so the results come back out of what we might think of as order (based on the PIDs, indicating processes spawned earlier came back later)."
   ]
  },
  {
   "cell_type": "markdown",
   "metadata": {},
   "source": [
    "# ```multiprocessing``` to parallelize a task"
   ]
  },
  {
   "cell_type": "markdown",
   "metadata": {},
   "source": [
    "Next, let's use a ```Pool``` of those workers to add large numbers. "
   ]
  },
  {
   "cell_type": "code",
   "execution_count": 29,
   "metadata": {},
   "outputs": [
    {
     "name": "stdout",
     "output_type": "stream",
     "text": [
      "Total sum: 7999998000000\n"
     ]
    }
   ],
   "source": [
    "import multiprocessing\n",
    "\n",
    "def calculate_sum(start_end):\n",
    "    \"\"\"worker function to calculate the sum of numbers from start to end\"\"\"\n",
    "    local_sum = 0\n",
    "    start, end = start_end\n",
    "    for i in range(start, end):\n",
    "        local_sum += i\n",
    "    return local_sum\n",
    "\n",
    "if __name__ == \"__main__\":\n",
    "    # Define the number of processes and the range of numbers to sum\n",
    "    num_processes = 4\n",
    "    total_sum = 0\n",
    "    step = 1000000\n",
    "    start_range = 0\n",
    "    ranges = []\n",
    "    for i in range(num_processes):\n",
    "        end_range = step*(i+1)\n",
    "        ranges.append((start_range, end_range))\n",
    "        start_range = end_range\n",
    "    with multiprocessing.Pool(processes=num_processes) as pool:\n",
    "        results = pool.map(calculate_sum, ranges)\n",
    "    total_sum = sum(results)\n",
    "    print(\"Total sum:\", total_sum)\n"
   ]
  },
  {
   "cell_type": "code",
   "execution_count": null,
   "metadata": {},
   "outputs": [],
   "source": []
  }
 ],
 "metadata": {
  "kernelspec": {
   "display_name": "Python 3 (ipykernel)",
   "language": "python",
   "name": "python3"
  },
  "language_info": {
   "codemirror_mode": {
    "name": "ipython",
    "version": 3
   },
   "file_extension": ".py",
   "mimetype": "text/x-python",
   "name": "python",
   "nbconvert_exporter": "python",
   "pygments_lexer": "ipython3",
   "version": "3.8.10"
  }
 },
 "nbformat": 4,
 "nbformat_minor": 4
}
